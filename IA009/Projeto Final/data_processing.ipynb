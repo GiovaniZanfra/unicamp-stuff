{
 "cells": [
  {
   "cell_type": "code",
   "execution_count": 2,
   "metadata": {},
   "outputs": [],
   "source": [
    "import librosa\n",
    "import matplotlib.pyplot as plt\n",
    "from scipy.signal import fftconvolve\n",
    "import numpy as np\n",
    "import soundfile as sf"
   ]
  },
  {
   "cell_type": "code",
   "execution_count": 3,
   "metadata": {},
   "outputs": [
    {
     "name": "stdout",
     "output_type": "stream",
     "text": [
      "dry audio shape = (138033,)\n",
      "dry audio sample rate = 22050\n",
      "impulse response shape = (216090,)\n"
     ]
    }
   ],
   "source": [
    "dry_audio = librosa.load(\"/workspace/unicamp/IA009/Projeto Final/LibriSpeech/dev-clean/251/118436/251-118436-0000.flac\")\n",
    "impulse_response = librosa.load(\"/workspace/unicamp/IA009/Projeto Final/sports-centre-university-york/sports-centre-university-york/stereo/sportscentre_ortf.wav\")\n"
   ]
  },
  {
   "cell_type": "code",
   "execution_count": 4,
   "metadata": {},
   "outputs": [
    {
     "name": "stdout",
     "output_type": "stream",
     "text": [
      "wet_audio shape = (354122,)\n"
     ]
    }
   ],
   "source": [
    "wet_audio = fftconvolve(dry_audio[0], impulse_response[0], mode=\"full\")"
   ]
  },
  {
   "cell_type": "code",
   "execution_count": 5,
   "metadata": {},
   "outputs": [],
   "source": [
    "wet_audio = wet_audio / np.max(np.abs(wet_audio))"
   ]
  },
  {
   "cell_type": "code",
   "execution_count": 6,
   "metadata": {},
   "outputs": [],
   "source": [
    "sf.write(\"/workspace/unicamp/IA009/Projeto Final/wet_audio/251-118436-0000_with_sports-centre-university-york.wav\", wet_audio, samplerate=22050)\n",
    "np.save(\"/workspace/unicamp/IA009/Projeto Final/wet_audio/251-118436-0000_with_sports-centre-university-york.npy\", wet_audio)"
   ]
  },
  {
   "cell_type": "code",
   "execution_count": null,
   "metadata": {},
   "outputs": [],
   "source": [
    "WET_AUDIO_PATH = \"/workspace/unicamp/IA009/Projeto Final/wet_audio\"\n",
    "def get_convolved_signal(dry_audio_path, ir_path):\n",
    "    dry_audio = librosa.load(dry_audio_path)\n",
    "    ir = librosa.load(ir_path)\n",
    "    wet_audio = fftconvolve(dry_audio[0], ir[0], mode=\"full\")\n",
    "    wet_audio = wet_audio / np.max(np.abs(wet_audio))\n",
    "    print(f\"dry audio shape = {dry_audio[0].shape}\\ndry audio sample rate = {dry_audio[1]}\\nimpulse response shape = {ir[0].shape}\")\n",
    "    print(f\"wet_audio shape = {wet_audio.shape}\")\n",
    "    return wet_audio\n",
    "\n",
    "\n",
    "def save_wet_audio(wet_audio, filename):\n",
    "    sf.write(f\"{WET_AUDIO_PATH}/{filename}.wav\", wet_audio, samplerate=22050)\n",
    "    np.save(f\"{WET_AUDIO_PATH}/{filename}.npy\", wet_audio)"
   ]
  }
 ],
 "metadata": {
  "kernelspec": {
   "display_name": "learn",
   "language": "python",
   "name": "python3"
  },
  "language_info": {
   "codemirror_mode": {
    "name": "ipython",
    "version": 3
   },
   "file_extension": ".py",
   "mimetype": "text/x-python",
   "name": "python",
   "nbconvert_exporter": "python",
   "pygments_lexer": "ipython3",
   "version": "3.10.13"
  }
 },
 "nbformat": 4,
 "nbformat_minor": 2
}
