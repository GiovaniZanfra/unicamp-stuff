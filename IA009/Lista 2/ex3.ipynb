{
 "cells": [
  {
   "cell_type": "code",
   "execution_count": 16,
   "metadata": {},
   "outputs": [],
   "source": [
    "import numpy as np\n",
    "\n",
    "def generate_s(n):\n",
    "    return np.random.choice([-1,1], size=n)\n",
    "\n",
    "def apply_h_on_s(s, h):\n",
    "    return np.convolve(s,h, mode=\"same\")\n",
    "\n",
    "def generate_gaussian_noise(n, mean, var):\n",
    "    return np.random.normal(mean, np.sqrt(var), n)\n",
    "\n",
    "def autocorrelation_matrix(X, M):\n",
    "    \"\"\"\n",
    "    Calculates the autocorrelation matrix with M lags for a given array X.\n",
    "\n",
    "    Parameters:\n",
    "    X (np.array): Input 1D array of data points.\n",
    "    M (int): Number of lags to use for the autocorrelation matrix.\n",
    "\n",
    "    Returns:\n",
    "    np.array: The autocorrelation matrix of shape (M+1, M+1).\n",
    "    \"\"\"\n",
    "    # Flatten the input array in case it's multidimensional\n",
    "    X = X.flatten()\n",
    "    \n",
    "    # Create lagged versions of the array\n",
    "    lagged_data = np.column_stack([np.roll(X, -lag)[:len(X) - M] for lag in range(M + 1)])\n",
    "    \n",
    "    # Compute the autocorrelation matrix\n",
    "    autocorr_matrix = np.corrcoef(lagged_data, rowvar=False)\n",
    "    \n",
    "    return autocorr_matrix\n",
    "\n",
    "def cross_correlation_vector(X, Y, M):\n",
    "    \"\"\"\n",
    "    Calculates the cross-correlation vector for M lags between two vectors X and Y.\n",
    "\n",
    "    Parameters:\n",
    "    X (np.array): First input 1D array of data points.\n",
    "    Y (np.array): Second input 1D array of data points, should be the same length as X.\n",
    "    M (int): Number of lags to calculate for the cross-correlation.\n",
    "\n",
    "    Returns:\n",
    "    np.array: A 1D array containing the cross-correlation values for each lag up to M.\n",
    "    \"\"\"\n",
    "    # Ensure X and Y are 1D arrays and have the same length\n",
    "    X = X.flatten()\n",
    "    Y = Y.flatten()\n",
    "    assert len(X) == len(Y), \"X and Y must be of the same length\"\n",
    "    \n",
    "    # Mean-center the data for unbiased cross-correlation\n",
    "    X = X - X.mean()\n",
    "    Y = Y - Y.mean()\n",
    "    \n",
    "    # Calculate cross-correlation for each lag up to M\n",
    "    cross_corr = np.array([\n",
    "        np.sum(X[:len(X) - lag] * Y[lag:]) / (len(X) - lag)\n",
    "        for lag in range(M + 1)\n",
    "    ])\n",
    "    \n",
    "    return cross_corr\n",
    "\n",
    "def calculate_w_opt(x, d, M):\n",
    "    R = autocorrelation_matrix(x, M)\n",
    "    R_inv = np.linalg.inv(R)\n",
    "    p = cross_correlation_vector(x, d, M)\n",
    "    return R_inv @ p\n",
    "\n",
    "def apply_fir_filter(w, x):\n",
    "    x = x.flatten()\n",
    "    # Ensure the input is a NumPy array\n",
    "    x = np.asarray(x)\n",
    "    w = np.asarray(w)\n",
    "    \n",
    "    # Get the order of the filter\n",
    "    M = len(w)\n",
    "    # Initialize the output signal with zeros\n",
    "    output_signal = np.zeros(len(x))\n",
    "\n",
    "    # Apply the FIR filter using convolution\n",
    "    for n in range(len(x)):\n",
    "        for k in range(M):\n",
    "            if n - k >= 0:  # Check bounds to avoid negative indices\n",
    "                output_signal[n] += w[k] * x[n - k]\n",
    "\n",
    "    return output_signal  \n",
    "\n",
    "\n",
    "n = 1000\n",
    "s = generate_s(n)\n",
    "s_filt = apply_h_on_s(s, [0.2, 0.7, 1.3])\n",
    "noise = generate_gaussian_noise(n, 0, 0.01)\n",
    "\n",
    "x = s_filt + noise"
   ]
  },
  {
   "cell_type": "code",
   "execution_count": 25,
   "metadata": {},
   "outputs": [
    {
     "data": {
      "text/plain": [
       "array([[1.        , 0.44987441],\n",
       "       [0.44987441, 1.        ]])"
      ]
     },
     "execution_count": 25,
     "metadata": {},
     "output_type": "execute_result"
    }
   ],
   "source": [
    "r = autocorrelation_matrix(x, 1)\n",
    "r"
   ]
  },
  {
   "cell_type": "code",
   "execution_count": 26,
   "metadata": {},
   "outputs": [
    {
     "data": {
      "text/plain": [
       "array([ 0.68229448,  0.15149668, -0.02452389, -0.02205017, -0.10683839,\n",
       "       -0.06710915])"
      ]
     },
     "execution_count": 26,
     "metadata": {},
     "output_type": "execute_result"
    }
   ],
   "source": [
    "p_for_lag = {}\n",
    "for lag in range(6):\n",
    "    p_for_lag[str(lag)] = cross_correlation_vector(x, s, lag)\n",
    "\n",
    "p_for_lag[\"5\"]"
   ]
  },
  {
   "cell_type": "code",
   "execution_count": 21,
   "metadata": {},
   "outputs": [
    {
     "ename": "ValueError",
     "evalue": "matmul: Input operand 1 has a mismatch in its core dimension 0, with gufunc signature (n?,k),(k,m?)->(n?,m?) (size 1 is different from 2)",
     "output_type": "error",
     "traceback": [
      "\u001b[0;31m---------------------------------------------------------------------------\u001b[0m",
      "\u001b[0;31mValueError\u001b[0m                                Traceback (most recent call last)",
      "Cell \u001b[0;32mIn[21], line 4\u001b[0m\n\u001b[1;32m      2\u001b[0m R_inv \u001b[38;5;241m=\u001b[39m np\u001b[38;5;241m.\u001b[39mlinalg\u001b[38;5;241m.\u001b[39minv(R)\n\u001b[1;32m      3\u001b[0m p \u001b[38;5;241m=\u001b[39m cross_correlation_vector(x, s, \u001b[38;5;241m0\u001b[39m)\n\u001b[0;32m----> 4\u001b[0m w \u001b[38;5;241m=\u001b[39m \u001b[43mR_inv\u001b[49m\u001b[43m \u001b[49m\u001b[38;5;241;43m@\u001b[39;49m\u001b[43m \u001b[49m\u001b[43mp\u001b[49m\n",
      "\u001b[0;31mValueError\u001b[0m: matmul: Input operand 1 has a mismatch in its core dimension 0, with gufunc signature (n?,k),(k,m?)->(n?,m?) (size 1 is different from 2)"
     ]
    }
   ],
   "source": [
    "R = autocorrelation_matrix(x, 1)\n",
    "R_inv = np.linalg.inv(R)\n",
    "p = cross_correlation_vector(x, s, 0)\n",
    "w = R_inv @ p"
   ]
  },
  {
   "cell_type": "code",
   "execution_count": 23,
   "metadata": {},
   "outputs": [
    {
     "data": {
      "text/plain": [
       "array([0.68229448])"
      ]
     },
     "execution_count": 23,
     "metadata": {},
     "output_type": "execute_result"
    }
   ],
   "source": [
    "p"
   ]
  },
  {
   "cell_type": "code",
   "execution_count": null,
   "metadata": {},
   "outputs": [],
   "source": []
  }
 ],
 "metadata": {
  "kernelspec": {
   "display_name": "learn",
   "language": "python",
   "name": "python3"
  },
  "language_info": {
   "codemirror_mode": {
    "name": "ipython",
    "version": 3
   },
   "file_extension": ".py",
   "mimetype": "text/x-python",
   "name": "python",
   "nbconvert_exporter": "python",
   "pygments_lexer": "ipython3",
   "version": "3.10.13"
  }
 },
 "nbformat": 4,
 "nbformat_minor": 2
}
