{
 "cells": [
  {
   "cell_type": "code",
   "execution_count": 2,
   "metadata": {},
   "outputs": [],
   "source": [
    "import numpy as np\n",
    "from functions import gradient_descent\n",
    "\n",
    "import numpy as np\n",
    "import matplotlib.pyplot as plt\n",
    "\n",
    "# Set the seed for reproducibility\n",
    "np.random.seed(42)\n",
    "\n",
    "# Define the number of samples\n",
    "n_samples = 100\n",
    "\n",
    "# Generate random feature values\n",
    "feature_1 = np.random.rand(n_samples)\n",
    "feature_2 = np.random.rand(n_samples)\n",
    "X = np.column_stack((feature_1, feature_2, np.ones(n_samples))) \n",
    "# Define coefficients for the features and an intercept\n",
    "coef_feature_1 = 2  # Coefficient for feature 1\n",
    "coef_feature_2 = 3  # Coefficient for feature 2\n",
    "intercept = 1\n",
    "beta = np.array([intercept, coef_feature_1, coef_feature_2]).reshape(-1,1)\n",
    "\n",
    "# Define the noise level\n",
    "noise = (np.random.randn(n_samples) * 0.5).reshape(-1,1)  # Gaussian noise\n",
    "\n",
    "y = X.dot(beta) + noise"
   ]
  },
  {
   "cell_type": "code",
   "execution_count": 5,
   "metadata": {},
   "outputs": [
    {
     "ename": "ValueError",
     "evalue": "operands could not be broadcast together with shapes (3,) (3,100) ",
     "output_type": "error",
     "traceback": [
      "\u001b[0;31m---------------------------------------------------------------------------\u001b[0m",
      "\u001b[0;31mValueError\u001b[0m                                Traceback (most recent call last)",
      "Cell \u001b[0;32mIn[5], line 1\u001b[0m\n\u001b[0;32m----> 1\u001b[0m beta_hat \u001b[38;5;241m=\u001b[39m \u001b[43mgradient_descent\u001b[49m\u001b[43m(\u001b[49m\u001b[43mX\u001b[49m\u001b[43m,\u001b[49m\u001b[43m \u001b[49m\u001b[43my\u001b[49m\u001b[43m)\u001b[49m\n",
      "File \u001b[0;32m/workspace/unicamp/IA048/functions.py:35\u001b[0m, in \u001b[0;36mgradient_descent\u001b[0;34m(X, y, learning_rate, n_iterations)\u001b[0m\n\u001b[1;32m     33\u001b[0m     gradients \u001b[38;5;241m=\u001b[39m \u001b[38;5;241m-\u001b[39m\u001b[38;5;241m2\u001b[39m\u001b[38;5;241m/\u001b[39mm \u001b[38;5;241m*\u001b[39m X\u001b[38;5;241m.\u001b[39mT\u001b[38;5;241m.\u001b[39mdot(y \u001b[38;5;241m-\u001b[39m X\u001b[38;5;241m.\u001b[39mdot(beta))\n\u001b[1;32m     34\u001b[0m     \u001b[38;5;66;03m# Update the coefficients\u001b[39;00m\n\u001b[0;32m---> 35\u001b[0m     beta \u001b[38;5;241m=\u001b[39m \u001b[43mbeta\u001b[49m\u001b[43m \u001b[49m\u001b[38;5;241;43m-\u001b[39;49m\u001b[43m \u001b[49m\u001b[43mlearning_rate\u001b[49m\u001b[43m \u001b[49m\u001b[38;5;241;43m*\u001b[39;49m\u001b[43m \u001b[49m\u001b[43mgradients\u001b[49m\n\u001b[1;32m     37\u001b[0m \u001b[38;5;28;01mreturn\u001b[39;00m beta\n",
      "\u001b[0;31mValueError\u001b[0m: operands could not be broadcast together with shapes (3,) (3,100) "
     ]
    }
   ],
   "source": [
    "beta_hat = gradient_descent(X, y)"
   ]
  },
  {
   "cell_type": "code",
   "execution_count": null,
   "metadata": {},
   "outputs": [],
   "source": []
  }
 ],
 "metadata": {
  "kernelspec": {
   "display_name": "learn",
   "language": "python",
   "name": "python3"
  },
  "language_info": {
   "codemirror_mode": {
    "name": "ipython",
    "version": 3
   },
   "file_extension": ".py",
   "mimetype": "text/x-python",
   "name": "python",
   "nbconvert_exporter": "python",
   "pygments_lexer": "ipython3",
   "version": "3.10.13"
  }
 },
 "nbformat": 4,
 "nbformat_minor": 2
}
